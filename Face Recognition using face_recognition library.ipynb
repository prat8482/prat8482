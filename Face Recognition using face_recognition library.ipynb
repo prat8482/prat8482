{
 "cells": [
  {
   "cell_type": "code",
   "execution_count": 1,
   "metadata": {},
   "outputs": [],
   "source": [
    "import numpy as np\n",
    "import cv2\n",
    "import face_recognition"
   ]
  },
  {
   "cell_type": "code",
   "execution_count": 7,
   "metadata": {},
   "outputs": [
    {
     "name": "stdout",
     "output_type": "stream",
     "text": [
      "[True] [0.2991401]\n"
     ]
    },
    {
     "data": {
      "text/plain": [
       "-1"
      ]
     },
     "execution_count": 7,
     "metadata": {},
     "output_type": "execute_result"
    }
   ],
   "source": [
    "my_img=face_recognition.load_image_file(r'C:\\Users\\prath\\ML 2\\Train\\Faces\\Prathamesh.jpg')\n",
    "my_img=cv2.cvtColor(my_img,cv2.COLOR_BGR2RGB)\n",
    "img_test=face_recognition.load_image_file(r'C:\\Users\\prath\\ML 2\\Train\\Images\\Images25.jpg')\n",
    "img_test=cv2.cvtColor(img_test,cv2.COLOR_BGR2RGB)\n",
    "\n",
    "faceloc=face_recognition.face_locations(my_img)[0]\n",
    "encode_face=face_recognition.face_encodings(my_img)[0]\n",
    "cv2.rectangle(my_img,(faceloc[3],faceloc[0]),(faceloc[1],faceloc[2]),(255,0,255),2)\n",
    "\n",
    "faceloctest=face_recognition.face_locations(img_test)[0]\n",
    "encode_face_test=face_recognition.face_encodings(img_test)[0]\n",
    "cv2.rectangle(img_test,(faceloctest[3],faceloctest[0]),(faceloctest[1],faceloctest[2]),(255,0,255),2)\n",
    "\n",
    "results=face_recognition.compare_faces([encode_face],encode_face_test)\n",
    "facedis=face_recognition.face_distance([encode_face],encode_face_test)\n",
    "print(results,facedis)\n",
    "\n",
    "cv2.imshow('Me',my_img)\n",
    "cv2.imshow('Me',img_test)\n",
    "cv2.waitKey(0)"
   ]
  },
  {
   "cell_type": "code",
   "execution_count": 11,
   "metadata": {
    "scrolled": true
   },
   "outputs": [],
   "source": [
    "import os\n",
    "\n",
    "path='Train\\Faces'\n",
    "images=[]\n",
    "classnames=[]\n",
    "mylst=os.listdir(path)\n",
    "\n",
    "for cl in mylst:\n",
    "    curr_img=cv2.imread(f'{path}/{cl}')\n",
    "    images.append(curr_img)\n",
    "    classnames.append(os.path.splitext(cl)[0])\n",
    "\n",
    "def findencoding(images):\n",
    "    encodelist=[]\n",
    "    for img in images:\n",
    "        img=cv2.cvtColor(img,cv2.COLOR_BGR2RGB)\n",
    "        encode=face_recognition.face_encodings(img)[0]\n",
    "        encodelist.append(encode)\n",
    "    return encodelist\n",
    "\n",
    "encodelistknown=findencoding(images)\n",
    "\n",
    "cap=cv2.VideoCapture(0)\n",
    "\n",
    "while True:\n",
    "    success,img=cap.read()\n",
    "    imgs=cv2.resize(img,(0,0),None, 0.25,0.25)\n",
    "    imgs=cv2.cvtColor(imgs,cv2.COLOR_BGR2RGB)\n",
    "    \n",
    "    facecurrframe=face_recognition.face_locations(imgs)\n",
    "    encodecurrframe=face_recognition.face_encodings(imgs,facecurrframe)\n",
    "    \n",
    "    for encodeface,faceloc in zip(encodecurrframe,facecurrframe):\n",
    "        matches=face_recognition.compare_faces(encodelistknown,encodeface)\n",
    "        facedis=face_recognition.face_distance(encodelistknown,encodeface)\n",
    "        matchindex=np.argmin(facedis)\n",
    "        \n",
    "        if  matches[matchindex]:\n",
    "            name=classnames[matchindex].upper()\n",
    "            y1,x2,y2,x1=faceloc\n",
    "            y1,x2,y2,x1=y1*4,x2*4,y2*4,x1*4\n",
    "            cv2.rectangle(img,(x1,y1),(x2,y2),(0,255,0),2)\n",
    "            cv2.rectangle(img,(x1,y2-35),(x2,y2),(0,255,0),cv2.FILLED)\n",
    "            cv2.putText(img,name,(x1+6,y2-6),cv2.FONT_HERSHEY_COMPLEX,1,(255,255,255),2)\n",
    "        \n",
    "    cv2.imshow('img',img)\n",
    "    k = cv2.waitKey(1) & 0xff\n",
    "    if k==13:\n",
    "        break\n",
    "cap.release()\n",
    "cv2.destroyAllWindows()"
   ]
  }
 ],
 "metadata": {
  "kernelspec": {
   "display_name": "Python (myenv)",
   "language": "python",
   "name": "myenv"
  },
  "language_info": {
   "codemirror_mode": {
    "name": "ipython",
    "version": 3
   },
   "file_extension": ".py",
   "mimetype": "text/x-python",
   "name": "python",
   "nbconvert_exporter": "python",
   "pygments_lexer": "ipython3",
   "version": "3.8.3"
  }
 },
 "nbformat": 4,
 "nbformat_minor": 4
}
